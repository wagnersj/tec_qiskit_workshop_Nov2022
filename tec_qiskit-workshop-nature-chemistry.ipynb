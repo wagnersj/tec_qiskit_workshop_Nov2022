{
 "cells": [
  {
   "cell_type": "markdown",
   "id": "opposed-indiana",
   "metadata": {},
   "source": [
    "# Qiskit Workshop: Computing molecular energy states with Qiskit Nature\n",
    "\n"
   ]
  },
  {
   "cell_type": "code",
   "execution_count": 1,
   "id": "bd5016f2-decd-43ed-9ca2-09fef3146b32",
   "metadata": {},
   "outputs": [],
   "source": [
    "%matplotlib inline\n",
    "# Importing standard Qiskit libraries\n",
    "from qiskit import QuantumCircuit, execute, Aer, IBMQ\n",
    "from qiskit.compiler import transpile, assemble\n",
    "from qiskit.tools.jupyter import *\n",
    "from qiskit.visualization import *\n",
    "from ibm_quantum_widgets import *\n",
    "\n",
    "# Loading your IBM Q account(s)\n",
    "provider = IBMQ.load_account()"
   ]
  },
  {
   "cell_type": "code",
   "execution_count": 2,
   "id": "controversial-tuner",
   "metadata": {},
   "outputs": [],
   "source": [
    "# Import other needed libraries\n",
    "import numpy as np\n",
    "import matplotlib.pyplot as plt"
   ]
  },
  {
   "cell_type": "markdown",
   "id": "38178762-d4bf-4fb1-8bc4-4bf7d4831ac0",
   "metadata": {},
   "source": [
    "---\n",
    "\n",
    "## Introduction\n",
    "\n",
    "**Goal**: Solve non-relativistic time independent Schroedinger equation,\n",
    "\n",
    "<center>\n",
    "    $\\mathcal{H}_{\\text{el}} |\\Psi_{n}\\rangle = E_{n} |\\Psi_{n}\\rangle$\n",
    "</center>\n",
    "\n",
    "to find the energies $E_n$. The ground state energy, $E_0$, given by:\n",
    "\n",
    "<center>\n",
    "    $E_0 = \\frac{\\langle \\Psi_0 | H_{\\text{el}} | \\Psi_0 \\rangle}{\\langle \\Psi_0 | \\Psi_0 \\rangle}$\n",
    "</center>\n",
    "\n",
    "**Solution**: Use eigenvalue solver to find energies $E_n$."
   ]
  },
  {
   "cell_type": "markdown",
   "id": "9d054095-f0c8-42d8-80e7-f99e5b8789e5",
   "metadata": {},
   "source": [
    "---\n",
    "\n",
    "## Qiskit Nature features\n",
    "- Interfaces to common classical chemistry libraries/programs (\"drivers\")\n",
    "    - Gaussian\n",
    "    - PSI4\n",
    "    - PyQuante\n",
    "    - PYSCF\n",
    "- Functions to map various operators to qubit operators\n",
    "- Common ansatz preparation circuits for variational solvers"
   ]
  },
  {
   "cell_type": "markdown",
   "id": "55d789a7-4ce0-4873-9f11-6a1d741f1f63",
   "metadata": {},
   "source": [
    "---\n",
    "\n",
    "## Setting up the problem"
   ]
  },
  {
   "cell_type": "markdown",
   "id": "eligible-cowboy",
   "metadata": {},
   "source": [
    "### Step 1: Create molecule and the driver"
   ]
  },
  {
   "cell_type": "code",
   "execution_count": 3,
   "id": "fffc417c-4709-479d-a1ac-c86566c2a010",
   "metadata": {},
   "outputs": [
    {
     "name": "stderr",
     "output_type": "stream",
     "text": [
      "<frozen importlib._bootstrap>:219: RuntimeWarning: scipy._lib.messagestream.MessageStream size changed, may indicate binary incompatibility. Expected 56 from C header, got 64 from PyObject\n"
     ]
    }
   ],
   "source": [
    "from qiskit_nature.second_q.drivers import PySCFDriver\n",
    "from qiskit_nature.second_q.formats.molecule_info import MoleculeInfo\n",
    "\n",
    "# Create molecule\n",
    "molecule = MoleculeInfo(['H', 'H'], [(0., 0., 0.), (0., 0., 0.735)],\n",
    "                        charge=0, \n",
    "                        multiplicity=1)\n",
    "\n",
    "# Instantiate driver\n",
    "driver = PySCFDriver.from_molecule(molecule = molecule, basis='sto3g')"
   ]
  },
  {
   "cell_type": "markdown",
   "id": "d13276dd-3733-4418-94f9-48df6bfe589b",
   "metadata": {},
   "source": [
    "<br>\n",
    "\n",
    "*Step 2a:* Get the `ElectronicStructureProblem` object by running the driver and compute Second quantization operator"
   ]
  },
  {
   "cell_type": "code",
   "execution_count": 4,
   "id": "cc240781-8be5-4c4e-b2ec-e2fdd3c3c30f",
   "metadata": {},
   "outputs": [
    {
     "name": "stdout",
     "output_type": "stream",
     "text": [
      "Fermionic Operator\n",
      "number spin orbitals=4, number terms=36\n",
      "  0.33785507740175813 * ( +_0 +_0 -_0 -_0 )\n",
      "+ 0.09046559989211565 * ( +_0 +_0 -_1 -_1 )\n",
      "+ 0.09046559989211556 * ( +_0 +_1 -_0 -_1 )\n",
      "+ 0.33229086512764827 * ( +_0 +_1 -_1 -_0 )\n",
      "+ 0.33785507740175813 * ( +_0 +_2 -_2 -_0 )\n",
      "+ 0.09046559989211565 * ( +_0 +_2 -_3 -_1 )\n",
      "+ 0.09046559989211556 * ( +_0 +_3 -_2 -_1 )\n",
      "+ 0.33229086512764827 * ( +_0 +_3 -_3 -_0 )\n",
      "+ 0.33229086512764816 * ( +_1 +_0 -_0 -_1 )\n",
      "+ 0.09046559989211574 * ( +_1 +_0 -_1 -_0 )\n",
      "+ 0.09046559989211564 * ( +_1 +_1 -_0 -_0 )\n",
      "+ 0.34928686136600906 * ( +_1 +_1 -_1 -_1 )\n",
      "+ 0.33229086512764816 * ( +_1 +_2 -_2 -_1 )\n",
      "+ 0.09046559989211574 * ( +_1 +_2 -_3 -_0 )\n",
      "+ 0.09046559989211564 * ( +_1 +_3 -_2 -_0 )\n",
      "+ 0.34928686136600906 * ( +_1 +_3 -_3 -_1 )\n",
      "+ 0.33785507740175813 * ( +_2 +_0 -_0 -_2 )\n",
      "+ 0.09046559989211565 * ( +_2 +_0 -_1 -_3 )\n",
      "+ 0.09046559989211556 * ( +_2 +_1 -_0 -_3 )\n",
      "+ 0.33229086512764827 * ( +_2 +_1 -_1 -_2 )\n",
      "+ 0.33785507740175813 * ( +_2 +_2 -_2 -_2 )\n",
      "+ 0.09046559989211565 * ( +_2 +_2 -_3 -_3 )\n",
      "+ 0.09046559989211556 * ( +_2 +_3 -_2 -_3 )\n",
      "+ 0.33229086512764827 * ( +_2 +_3 -_3 -_2 )\n",
      "+ 0.33229086512764816 * ( +_3 +_0 -_0 -_3 )\n",
      "+ 0.09046559989211574 * ( +_3 +_0 -_1 -_2 )\n",
      "+ 0.09046559989211564 * ( +_3 +_1 -_0 -_2 )\n",
      "+ 0.34928686136600906 * ( +_3 +_1 -_1 -_3 )\n",
      "+ 0.33229086512764816 * ( +_3 +_2 -_2 -_3 )\n",
      "+ 0.09046559989211574 * ( +_3 +_2 -_3 -_2 )\n",
      "+ 0.09046559989211564 * ( +_3 +_3 -_2 -_2 )\n",
      "+ 0.34928686136600906 * ( +_3 +_3 -_3 -_3 )\n",
      "+ -1.2563390730032498 * ( +_0 -_0 )\n",
      "+ -0.47189600728114245 * ( +_1 -_1 )\n",
      "+ -1.2563390730032498 * ( +_2 -_2 )\n",
      "+ -0.47189600728114245 * ( +_3 -_3 )\n"
     ]
    }
   ],
   "source": [
    "es_problem = driver.run()\n",
    "second_q_op = es_problem.hamiltonian.second_q_op()\n",
    "print(second_q_op)"
   ]
  },
  {
   "cell_type": "markdown",
   "id": "ef68d088-66a5-43d8-b625-d302ebb823f0",
   "metadata": {},
   "source": [
    "<br>\n",
    "\n",
    "*Step 2b:* Map to qubit spin operators\n",
    "\n",
    "Available mappings:\n",
    "- Jordan-Wigner\n",
    "- Parity\n",
    "- Bravyi-Kitaev"
   ]
  },
  {
   "cell_type": "code",
   "execution_count": 5,
   "id": "9811c873-cf14-483f-981f-7db0d9abf6ad",
   "metadata": {},
   "outputs": [
    {
     "name": "stdout",
     "output_type": "stream",
     "text": [
      "-0.8105479805373283 * IIII\n",
      "+ 0.17218393261915543 * IIIZ\n",
      "- 0.2257534922240237 * IIZI\n",
      "+ 0.12091263261776633 * IIZZ\n",
      "+ 0.17218393261915543 * IZII\n",
      "+ 0.16892753870087907 * IZIZ\n",
      "+ 0.045232799946057826 * YYYY\n",
      "+ 0.045232799946057826 * XXYY\n",
      "+ 0.045232799946057826 * YYXX\n",
      "+ 0.045232799946057826 * XXXX\n",
      "- 0.22575349222402363 * ZIII\n",
      "+ 0.1661454325638241 * ZIIZ\n",
      "+ 0.16614543256382408 * IZZI\n",
      "+ 0.1746434306830045 * ZIZI\n",
      "+ 0.12091263261776633 * ZZII\n"
     ]
    }
   ],
   "source": [
    "from qiskit_nature.second_q.mappers import JordanWignerMapper, QubitConverter\n",
    "\n",
    "jw_qubit_converter = QubitConverter(mapper=JordanWignerMapper())\n",
    "jw_qubit_op = jw_qubit_converter.convert(second_q_op)\n",
    "print(jw_qubit_op)"
   ]
  },
  {
   "cell_type": "code",
   "execution_count": 6,
   "id": "c771414a-08b4-470e-8152-2d7d3b29fe2c",
   "metadata": {},
   "outputs": [
    {
     "name": "stdout",
     "output_type": "stream",
     "text": [
      "-1.0523732457728605 * II\n",
      "+ 0.39793742484317896 * IZ\n",
      "- 0.39793742484317896 * ZI\n",
      "- 0.01128010425623538 * ZZ\n",
      "+ 0.18093119978423122 * XX\n"
     ]
    }
   ],
   "source": [
    "from qiskit_nature.second_q.mappers import ParityMapper\n",
    "\n",
    "pr_qubit_converter = QubitConverter(mapper=ParityMapper(), two_qubit_reduction=True)\n",
    "pr_qubit_op = pr_qubit_converter.convert(second_q_op, num_particles=es_problem.num_particles)\n",
    "print(pr_qubit_op)"
   ]
  },
  {
   "cell_type": "markdown",
   "id": "chinese-screen",
   "metadata": {},
   "source": [
    "---\n",
    "\n",
    "## Solve for ground state energy using VQE\n",
    "\n",
    "<img src=https://qiskit.org/documentation/nature/_images/vqe.png width=1000px>"
   ]
  },
  {
   "cell_type": "markdown",
   "id": "9fecf6c5-e596-45c6-bd50-83ec28f5a82e",
   "metadata": {},
   "source": [
    "### Step 1: Create VQE solver\n",
    "\n",
    "#### Create/Instatiate a parameterized ansatz circuit, then pass to `VQE` class\n",
    "\n",
    "Available ansatz circuits / variational forms:\n",
    "- `TwoLocal`\n",
    "- `EfficientSU2`\n",
    "- `UCC` (Unitary coupled cluster)"
   ]
  },
  {
   "cell_type": "code",
   "execution_count": 7,
   "id": "b9c3ba02-6756-422b-a5fc-850b37c35bdc",
   "metadata": {},
   "outputs": [],
   "source": [
    "n = jw_qubit_op.num_qubits\n",
    "#n = pr_qubit_op.num_qubits"
   ]
  },
  {
   "cell_type": "code",
   "execution_count": 9,
   "id": "8961f6f5-e806-46c4-8399-a60383c0e824",
   "metadata": {},
   "outputs": [
    {
     "data": {
      "image/png": "[encoded data removed]",
      "text/plain": [
       "<Figure size 989.597x264.88 with 1 Axes>"
      ]
     },
     "execution_count": 9,
     "metadata": {},
     "output_type": "execute_result"
    }
   ],
   "source": [
    "from qiskit.circuit.library import EfficientSU2\n",
    "\n",
    "su2_circ = EfficientSU2(num_qubits=n, entanglement='linear')\n",
    "su2_circ.decompose().draw()"
   ]
  },
  {
   "cell_type": "markdown",
   "id": "51803b19-369e-4b3f-b24f-e21f6cce3e15",
   "metadata": {},
   "source": [
    "<br> \n",
    "\n",
    "Now, create the VQE solver with the desired ansatz"
   ]
  },
  {
   "cell_type": "code",
   "execution_count": 11,
   "id": "14cc73ff-bda5-4b2a-ac48-4d70b65e7108",
   "metadata": {},
   "outputs": [],
   "source": [
    "from qiskit.algorithms.minimum_eigensolvers import VQE\n",
    "from qiskit.primitives import Estimator\n",
    "from qiskit.algorithms.optimizers import SLSQP\n",
    "\n",
    "vqe_solver = VQE(Estimator(), su2_circ, SLSQP())"
   ]
  },
  {
   "cell_type": "markdown",
   "id": "68061d75-b415-4942-87b0-b9f8de471361",
   "metadata": {},
   "source": [
    "<br>\n",
    "\n",
    "### Step 2: Run ground state solver"
   ]
  },
  {
   "cell_type": "code",
   "execution_count": 13,
   "id": "147cc650-d250-4ea6-987e-6aace77e287a",
   "metadata": {},
   "outputs": [],
   "source": [
    "# Choose your converter!\n",
    "\n",
    "# JW mapping (uses 4 qubits)\n",
    "qubit_converter = jw_qubit_converter\n",
    "\n"
   ]
  },
  {
   "cell_type": "markdown",
   "id": "1be4c902-b1b7-475a-9d54-a919fd62a98a",
   "metadata": {},
   "source": [
    "<br> \n",
    "\n",
    "Using the `VQE` class with `EfficientSU2`"
   ]
  },
  {
   "cell_type": "code",
   "execution_count": 14,
   "id": "7562d359-3820-44fa-80f9-cf7d6dd54056",
   "metadata": {},
   "outputs": [
    {
     "name": "stdout",
     "output_type": "stream",
     "text": [
      "=== GROUND STATE ENERGY ===\n",
      " \n",
      "* Electronic ground state energy (Hartree): -1.857246283278\n",
      "  - computed part:      -1.857246283278\n",
      "~ Nuclear repulsion energy (Hartree): 0.719968994449\n",
      "> Total ground state energy (Hartree): -1.137277288829\n",
      " \n",
      "=== MEASURED OBSERVABLES ===\n",
      " \n",
      "  0:  # Particles: 2.000 S: 0.000 S^2: 0.000 M: 0.000\n",
      " \n",
      "=== DIPOLE MOMENTS ===\n",
      " \n",
      "~ Nuclear dipole moment (a.u.): [0.0  0.0  1.3889487]\n",
      " \n",
      "  0: \n",
      "  * Electronic dipole moment (a.u.): [0.0  0.0  1.38881206]\n",
      "    - computed part:      [0.0  0.0  1.38881206]\n",
      "  > Dipole moment (a.u.): [0.0  0.0  0.00013664]  Total: 0.00013664\n",
      "                 (debye): [0.0  0.0  0.0003473]  Total: 0.0003473\n",
      " \n"
     ]
    }
   ],
   "source": [
    "from qiskit_nature.second_q.algorithms import GroundStateEigensolver\n",
    "\n",
    "# Using the VQE class with EfficientSU2 ansatz\n",
    "su2_gsc = GroundStateEigensolver(qubit_converter, vqe_solver)\n",
    "result = su2_gsc.solve(es_problem)\n",
    "\n",
    "print(result)"
   ]
  },
  {
   "cell_type": "markdown",
   "id": "3c906883-36e5-4b25-b46c-f5ccc2f3fdd0",
   "metadata": {},
   "source": [
    "<br>\n",
    "\n",
    "Check against classical solver"
   ]
  },
  {
   "cell_type": "code",
   "execution_count": 16,
   "id": "c7fad01c-60b9-4d5c-a4a6-1eff5fb5f915",
   "metadata": {},
   "outputs": [
    {
     "name": "stdout",
     "output_type": "stream",
     "text": [
      "=== GROUND STATE ENERGY ===\n",
      " \n",
      "* Electronic ground state energy (Hartree): -1.857275030202\n",
      "  - computed part:      -1.857275030202\n",
      "~ Nuclear repulsion energy (Hartree): 0.719968994449\n",
      "> Total ground state energy (Hartree): -1.137306035753\n",
      " \n",
      "=== MEASURED OBSERVABLES ===\n",
      " \n",
      "  0:  # Particles: 2.000 S: 0.000 S^2: 0.000 M: 0.000\n",
      " \n",
      "=== DIPOLE MOMENTS ===\n",
      " \n",
      "~ Nuclear dipole moment (a.u.): [0.0  0.0  1.3889487]\n",
      " \n",
      "  0: \n",
      "  * Electronic dipole moment (a.u.): [0.0  0.0  1.3889487]\n",
      "    - computed part:      [0.0  0.0  1.3889487]\n",
      "  > Dipole moment (a.u.): [0.0  0.0  0.0]  Total: 0.0\n",
      "                 (debye): [0.0  0.0  0.0]  Total: 0.0\n",
      " \n"
     ]
    }
   ],
   "source": [
    "# Check against classical solver\n",
    "from qiskit.algorithms.minimum_eigensolvers import NumPyMinimumEigensolver\n",
    "\n",
    "numpy_solver = NumPyMinimumEigensolver()\n",
    "\n",
    "np_gsc = GroundStateEigensolver(qubit_converter, numpy_solver)\n",
    "np_result = np_gsc.solve(es_problem)\n",
    "\n",
    "print(np_result)"
   ]
  },
  {
   "cell_type": "code",
   "execution_count": null,
   "id": "d48acc1f-0348-474c-9f9d-c3a27fccaf65",
   "metadata": {},
   "outputs": [],
   "source": []
  }
 ],
 "metadata": {
  "kernelspec": {
   "display_name": "Python 3 (ipykernel)",
   "language": "python",
   "name": "python3"
  },
  "language_info": {
   "codemirror_mode": {
    "name": "ipython",
    "version": 3
   },
   "file_extension": ".py",
   "mimetype": "text/x-python",
   "name": "python",
   "nbconvert_exporter": "python",
   "pygments_lexer": "ipython3",
   "version": "3.8.13"
  },
  "widgets": {
   "application/vnd.jupyter.widget-state+json": {
    "state": {},
    "version_major": 2,
    "version_minor": 0
   }
  }
 },
 "nbformat": 4,
 "nbformat_minor": 5
}
